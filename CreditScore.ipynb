{
  "cells": [
    {
      "cell_type": "markdown",
      "source": [
        "## Librerías"
      ],
      "metadata": {
        "id": "XFI2N7DJct_X"
      }
    },
    {
      "cell_type": "code",
      "execution_count": 28,
      "metadata": {
        "id": "dBal_9jr1B-Z"
      },
      "outputs": [],
      "source": [
        "import pandas as pd\n",
        "from sklearn.preprocessing import OrdinalEncoder\n",
        "from sklearn.pipeline import Pipeline\n",
        "from sklearn.preprocessing import StandardScaler\n",
        "from sklearn.model_selection import train_test_split\n",
        "from sklearn.metrics import accuracy_score\n",
        "from sklearn.metrics import precision_recall_fscore_support\n",
        "from sklearn.metrics import classification_report\n",
        "from sklearn.neighbors import KNeighborsClassifier\n",
        "from sklearn.ensemble import RandomForestClassifier\n",
        "from sklearn.ensemble import GradientBoostingClassifier\n",
        "from sklearn.model_selection import GridSearchCV\n",
        "import matplotlib.pyplot as plt\n",
        "from sklearn import metrics"
      ]
    },
    {
      "cell_type": "markdown",
      "source": [
        "# Funciones"
      ],
      "metadata": {
        "id": "EZ80HfTJcy2A"
      }
    },
    {
      "cell_type": "code",
      "execution_count": 2,
      "metadata": {
        "id": "ig4SxP3G1B-g"
      },
      "outputs": [],
      "source": [
        "# Data Preprocessing\n",
        "def preprocessor(data):\n",
        "    data = data.sort_values(by=['Customer_ID', 'Month'])\n",
        "    # Encoding categorical values\n",
        "    categorical_columns = [cname for cname in data.columns if data[cname].nunique() and data[cname].dtype == \"object\"]\n",
        "    categorical_columns = categorical_columns[1:]\n",
        "    ordinal_encoder = OrdinalEncoder()\n",
        "    data[categorical_columns] = ordinal_encoder.fit_transform(data[categorical_columns])\n",
        "    return data"
      ]
    },
    {
      "cell_type": "code",
      "execution_count": 3,
      "metadata": {
        "id": "4gjuuYNF1B-h"
      },
      "outputs": [],
      "source": [
        "def client_summary(data, target_month, num_prev_months):\n",
        "    months = [1, 2, 3, 4, 5, 6, 7, 8]\n",
        "    start_index = months.index(target_month) - num_prev_months\n",
        "    start_index = max(0, start_index)\n",
        "    previous_months = months[start_index:months.index(target_month)]\n",
        "\n",
        "    agg_data = data[data['Month'].between(previous_months[0], previous_months[-1], inclusive='both')].groupby('Customer_ID').agg({\n",
        "        'Age'                      :'mean',\n",
        "        'Occupation'               :'first',\n",
        "        'Annual_Income'            :'mean',\n",
        "        'Monthly_Inhand_Salary'    :'mean',\n",
        "        'Num_Bank_Accounts'        :'mean',\n",
        "        'Num_Credit_Card'          :'mean',\n",
        "        'Interest_Rate'            :'mean',\n",
        "        'Num_of_Loan'              :'mean',\n",
        "        'Type_of_Loan'             :'first',\n",
        "        'Delay_from_due_date'      :'mean',\n",
        "        'Num_of_Delayed_Payment'   :'mean',\n",
        "        'Changed_Credit_Limit'     :'mean',\n",
        "        'Num_Credit_Inquiries'     :'mean',\n",
        "        'Credit_Mix'               :'first',\n",
        "        'Outstanding_Debt'         :'mean',\n",
        "        'Credit_Utilization_Ratio' :'mean',\n",
        "        'Credit_History_Age'       :'mean',\n",
        "        #'Payment_of_Min_Amount'    :'first',\n",
        "        'Total_EMI_per_month'      :'mean',\n",
        "        'Amount_invested_monthly'  :'mean',\n",
        "        #'Payment_Behaviour'        :'first',\n",
        "        'Monthly_Balance'          :'mean',\n",
        "        'Credit_Score'             : list   # List of credit scores for months 1 to 7\n",
        "    }).reset_index()\n",
        "\n",
        "\n",
        "    # Expand the list of credit scores into separate columns\n",
        "    expanded_scores = agg_data['Credit_Score'].apply(pd.Series)\n",
        "    expanded_scores.columns = [f'Credit_Score_{i}' for i in previous_months]\n",
        "    agg_data = pd.concat([agg_data, expanded_scores], axis=1)\n",
        "    agg_data.drop('Credit_Score', axis=1, inplace=True)\n",
        "\n",
        "    # Target variable\n",
        "    target_month_data = data[data['Month'] == target_month]\n",
        "    target_month_data = target_month_data[[\"Customer_ID\", \"Credit_Score\"]].rename(columns={'Credit_Score': 'Target_Score'})\n",
        "\n",
        "    # Merge data and target\n",
        "    agg_data = agg_data.merge(target_month_data, on=\"Customer_ID\", how=\"inner\")\n",
        "\n",
        "    return agg_data"
      ]
    },
    {
      "cell_type": "code",
      "execution_count": 4,
      "metadata": {
        "id": "ut5taNi41B-i"
      },
      "outputs": [],
      "source": [
        "# Split the data\n",
        "def split_data(df, random_state, test_size):\n",
        "    X = df.drop(['Customer_ID', 'Target_Score'], axis=1)\n",
        "    y = df['Target_Score']\n",
        "    X_train, X_test, y_train, y_test = train_test_split(X, y, test_size=test_size, random_state=random_state)\n",
        "    return X_train, X_test, y_train, y_test"
      ]
    },
    {
      "cell_type": "code",
      "execution_count": 5,
      "metadata": {
        "id": "tAQDuoVD1B-j"
      },
      "outputs": [],
      "source": [
        "# Model building\n",
        "def test_model(X_train, y_train, X_test, clf):\n",
        "    pipeline = Pipeline([\n",
        "        ('scaler', StandardScaler()),\n",
        "        ('classifier', clf),\n",
        "    ])\n",
        "    pipeline.set_params(**clf.best_params_)\n",
        "    pipeline.fit(X_train, y_train)\n",
        "\n",
        "    # Prediction\n",
        "    y_pred = pipeline.predict(X_test)\n",
        "    return y_pred"
      ]
    },
    {
      "cell_type": "markdown",
      "source": [
        "# Lectura del dataset"
      ],
      "metadata": {
        "id": "kf59zYOrc4Ws"
      }
    },
    {
      "cell_type": "code",
      "execution_count": 6,
      "metadata": {
        "id": "Hq3KwKcF1B-k",
        "colab": {
          "base_uri": "https://localhost:8080/"
        },
        "outputId": "176ca4c9-5db8-4414-897c-42836b4b34c4"
      },
      "outputs": [
        {
          "output_type": "stream",
          "name": "stdout",
          "text": [
            "Drive already mounted at /content/drive; to attempt to forcibly remount, call drive.mount(\"/content/drive\", force_remount=True).\n"
          ]
        }
      ],
      "source": [
        "from google.colab import drive\n",
        "drive.mount('/content/drive')\n",
        "# Read dataset\n",
        "data = pd.read_csv(\"/content/drive/MyDrive/Universidad/Semestre 9/ML aplicado/Anteproyecto/train.csv\")\n",
        "# Data processing\n",
        "data = preprocessor(data=data)"
      ]
    },
    {
      "cell_type": "markdown",
      "source": [
        "# Prueba con diferentes modelo y diferentes cantidades de meses previos"
      ],
      "metadata": {
        "id": "t0FuaUSuc8-m"
      }
    },
    {
      "cell_type": "code",
      "source": [
        "# Parameters\n",
        "random_state = 42\n",
        "test_size = 0.2\n",
        "target_month = 8\n",
        "# Save models predictions\n",
        "models = []"
      ],
      "metadata": {
        "id": "kpwKn4VwRd6H"
      },
      "execution_count": 7,
      "outputs": []
    },
    {
      "cell_type": "markdown",
      "source": [
        "### Funciones para pruebas de modelos con diferentes parametros"
      ],
      "metadata": {
        "id": "tbrhKw6XM6H9"
      }
    },
    {
      "cell_type": "code",
      "source": [
        "# Definition of parameters grid\n",
        "param_grid_knn = {\n",
        "    'classifier__metric': ['minkowski', 'euclidean'],\n",
        "    'classifier__n_neighbors': list(range(1, 100))\n",
        "}\n",
        "param_grid_rf_gb = {\n",
        "    'classifier__n_estimators': [50, 100],\n",
        "    'classifier__max_depth': list(range(6, 10)),\n",
        "    'classifier__min_samples_leaf': [10, 300, 2000]\n",
        "}"
      ],
      "metadata": {
        "id": "rrb-dLZ1WLj5"
      },
      "execution_count": 8,
      "outputs": []
    },
    {
      "cell_type": "code",
      "source": [
        "# Evaluate different parameters\n",
        "def best_parameters(param_grid, classifier):\n",
        "    pipeline = Pipeline([\n",
        "        ('scaler', StandardScaler()),\n",
        "        ('classifier', classifier),\n",
        "    ])\n",
        "    clf = GridSearchCV(pipeline, cv=3, param_grid=param_grid)\n",
        "    clf.fit(X_train, y_train)\n",
        "    return clf"
      ],
      "metadata": {
        "id": "iBER9ii-VVSU"
      },
      "execution_count": 9,
      "outputs": []
    },
    {
      "cell_type": "code",
      "source": [
        "# Print different model metrics\n",
        "def print_metrics(y_test, y_pred):\n",
        "    precision, recall, f1_score, _ = precision_recall_fscore_support(y_test, y_pred, average='weighted')\n",
        "    print('Accuracy:', accuracy_score(y_test, y_pred))\n",
        "    print('Precision:', precision)\n",
        "    print('Recall:', recall)\n",
        "    print('F1-score:', f1_score)\n",
        "    print('More info:')\n",
        "    print(classification_report(y_test, y_pred))\n",
        "    print()"
      ],
      "metadata": {
        "id": "aJWIfoMVkxoQ"
      },
      "execution_count": 10,
      "outputs": []
    },
    {
      "cell_type": "code",
      "source": [
        "# Predict data\n",
        "def model_prediction(months, name, model, X_test):\n",
        "    print(f'{name} USING THE LAST {months} MONTHS DATA\\n')\n",
        "    y_pred = model.predict(X_test)\n",
        "    print_metrics(y_test, y_pred)\n",
        "    return y_pred"
      ],
      "metadata": {
        "id": "xoGnqSaQJWcG"
      },
      "execution_count": 11,
      "outputs": []
    },
    {
      "cell_type": "markdown",
      "source": [
        "### Prueba usando los tres meses anteriores"
      ],
      "metadata": {
        "id": "wXHe-8wJJQKB"
      }
    },
    {
      "cell_type": "code",
      "execution_count": 12,
      "metadata": {
        "id": "NulAOsMi1B-k"
      },
      "outputs": [],
      "source": [
        "# New datasets\n",
        "months=3\n",
        "df = client_summary(data=data, target_month=target_month, num_prev_months=months)\n",
        "X_train, X_test, y_train, y_test = split_data(df=df, random_state=random_state, test_size=test_size)"
      ]
    },
    {
      "cell_type": "code",
      "source": [
        "# Get best parameters\n",
        "clf = best_parameters(param_grid_knn, KNeighborsClassifier())\n",
        "y_pred_knn = model_prediction(months, 'KNN', clf, X_test)\n",
        "print('Best parameters:\\n', clf.best_params_)"
      ],
      "metadata": {
        "colab": {
          "base_uri": "https://localhost:8080/"
        },
        "id": "zCg2422PXmC2",
        "outputId": "eb0dcb6c-8021-44d6-e2a3-012e81fa6439"
      },
      "execution_count": 13,
      "outputs": [
        {
          "output_type": "stream",
          "name": "stdout",
          "text": [
            "KNN USING THE LAST 3 MONTHS DATA\n",
            "\n",
            "Accuracy: 0.8\n",
            "Precision: 0.8024775194781423\n",
            "Recall: 0.8\n",
            "F1-score: 0.8005733945978902\n",
            "More info:\n",
            "              precision    recall  f1-score   support\n",
            "\n",
            "         0.0       0.83      0.81      0.82       500\n",
            "         1.0       0.74      0.81      0.77       715\n",
            "         2.0       0.83      0.79      0.81      1285\n",
            "\n",
            "    accuracy                           0.80      2500\n",
            "   macro avg       0.80      0.80      0.80      2500\n",
            "weighted avg       0.80      0.80      0.80      2500\n",
            "\n",
            "\n",
            "Best parameters:\n",
            " {'classifier__metric': 'minkowski', 'classifier__n_neighbors': 21}\n"
          ]
        }
      ]
    },
    {
      "cell_type": "code",
      "source": [
        "# Get best parameters\n",
        "clf = best_parameters(param_grid_rf_gb, RandomForestClassifier(random_state=random_state))\n",
        "y_pred_rf = model_prediction(months, 'RANDOM FOREST', clf, X_test)\n",
        "print('Best parameters:\\n', clf.best_params_)"
      ],
      "metadata": {
        "colab": {
          "base_uri": "https://localhost:8080/"
        },
        "id": "2W0Tef2UgzFP",
        "outputId": "f0249bf1-8adb-4f8b-967b-a75733952997"
      },
      "execution_count": 14,
      "outputs": [
        {
          "output_type": "stream",
          "name": "stdout",
          "text": [
            "RANDOM FOREST USING THE LAST 3 MONTHS DATA\n",
            "\n",
            "Accuracy: 0.8584\n",
            "Precision: 0.8592880741141921\n",
            "Recall: 0.8584\n",
            "F1-score: 0.858406212819225\n",
            "More info:\n",
            "              precision    recall  f1-score   support\n",
            "\n",
            "         0.0       0.84      0.87      0.85       500\n",
            "         1.0       0.84      0.89      0.86       715\n",
            "         2.0       0.88      0.84      0.86      1285\n",
            "\n",
            "    accuracy                           0.86      2500\n",
            "   macro avg       0.85      0.86      0.86      2500\n",
            "weighted avg       0.86      0.86      0.86      2500\n",
            "\n",
            "\n",
            "Best parameters:\n",
            " {'classifier__max_depth': 9, 'classifier__min_samples_leaf': 10, 'classifier__n_estimators': 100}\n"
          ]
        }
      ]
    },
    {
      "cell_type": "code",
      "source": [
        "# Get best parameters\n",
        "clf = best_parameters(param_grid_rf_gb, GradientBoostingClassifier(random_state=random_state))\n",
        "y_pred_gb = model_prediction(months, 'GRADIENT BOOSTING', clf, X_test)\n",
        "print('Best parameters:\\n', clf.best_params_)"
      ],
      "metadata": {
        "colab": {
          "base_uri": "https://localhost:8080/"
        },
        "id": "kQJmR_w6LQx6",
        "outputId": "1a7762e6-9552-40ce-ef1e-d97c504c3140"
      },
      "execution_count": 15,
      "outputs": [
        {
          "output_type": "stream",
          "name": "stdout",
          "text": [
            "GRADIENT BOOSTING USING THE LAST 3 MONTHS DATA\n",
            "\n",
            "Accuracy: 0.8556\n",
            "Precision: 0.856705952700715\n",
            "Recall: 0.8556\n",
            "F1-score: 0.8555921437762969\n",
            "More info:\n",
            "              precision    recall  f1-score   support\n",
            "\n",
            "         0.0       0.84      0.86      0.85       500\n",
            "         1.0       0.83      0.89      0.86       715\n",
            "         2.0       0.88      0.84      0.86      1285\n",
            "\n",
            "    accuracy                           0.86      2500\n",
            "   macro avg       0.85      0.86      0.85      2500\n",
            "weighted avg       0.86      0.86      0.86      2500\n",
            "\n",
            "\n",
            "Best parameters:\n",
            " {'classifier__max_depth': 6, 'classifier__min_samples_leaf': 300, 'classifier__n_estimators': 50}\n"
          ]
        }
      ]
    },
    {
      "cell_type": "code",
      "source": [
        "models.append([y_pred_knn, y_pred_rf, y_pred_gb])"
      ],
      "metadata": {
        "id": "d2KtVuoVhpa8"
      },
      "execution_count": 16,
      "outputs": []
    },
    {
      "cell_type": "markdown",
      "source": [
        "### Prueba usando los cinco meses anteriores"
      ],
      "metadata": {
        "id": "lbWBkKQyNa_w"
      }
    },
    {
      "cell_type": "code",
      "source": [
        "# New datasets\n",
        "months=5\n",
        "df = client_summary(data=data, target_month=target_month, num_prev_months=months)\n",
        "X_train, X_test, y_train, y_test = split_data(df=df, random_state=random_state, test_size=test_size)"
      ],
      "metadata": {
        "id": "FXjM-8gmjTn9"
      },
      "execution_count": 17,
      "outputs": []
    },
    {
      "cell_type": "code",
      "source": [
        "# Get best parameters\n",
        "clf = best_parameters(param_grid_knn, KNeighborsClassifier())\n",
        "y_pred_knn = model_prediction(months, 'KNN', clf, X_test)\n",
        "print('Best parameters:\\n', clf.best_params_)"
      ],
      "metadata": {
        "colab": {
          "base_uri": "https://localhost:8080/"
        },
        "id": "k_8zD4IIm-uY",
        "outputId": "987e0639-2408-4477-8434-c95596295116"
      },
      "execution_count": 18,
      "outputs": [
        {
          "output_type": "stream",
          "name": "stdout",
          "text": [
            "KNN USING THE LAST 5 MONTHS DATA\n",
            "\n",
            "Accuracy: 0.8016\n",
            "Precision: 0.8075592051247901\n",
            "Recall: 0.8016\n",
            "F1-score: 0.8020650124894168\n",
            "More info:\n",
            "              precision    recall  f1-score   support\n",
            "\n",
            "         0.0       0.81      0.84      0.82       500\n",
            "         1.0       0.73      0.85      0.78       715\n",
            "         2.0       0.85      0.76      0.80      1285\n",
            "\n",
            "    accuracy                           0.80      2500\n",
            "   macro avg       0.80      0.82      0.80      2500\n",
            "weighted avg       0.81      0.80      0.80      2500\n",
            "\n",
            "\n",
            "Best parameters:\n",
            " {'classifier__metric': 'minkowski', 'classifier__n_neighbors': 6}\n"
          ]
        }
      ]
    },
    {
      "cell_type": "code",
      "source": [
        "# Get best parameters\n",
        "clf = best_parameters(param_grid_rf_gb, RandomForestClassifier(random_state=random_state))\n",
        "y_pred_rf = model_prediction(months, 'RANDOM FOREST', clf, X_test)\n",
        "print('Best parameters:\\n', clf.best_params_)"
      ],
      "metadata": {
        "colab": {
          "base_uri": "https://localhost:8080/"
        },
        "id": "STjf7VUQnATp",
        "outputId": "2f725e6e-4063-48b8-df69-ae002592a0b0"
      },
      "execution_count": 19,
      "outputs": [
        {
          "output_type": "stream",
          "name": "stdout",
          "text": [
            "RANDOM FOREST USING THE LAST 5 MONTHS DATA\n",
            "\n",
            "Accuracy: 0.8536\n",
            "Precision: 0.8551508977285699\n",
            "Recall: 0.8536\n",
            "F1-score: 0.85359446799152\n",
            "More info:\n",
            "              precision    recall  f1-score   support\n",
            "\n",
            "         0.0       0.83      0.87      0.85       500\n",
            "         1.0       0.83      0.89      0.86       715\n",
            "         2.0       0.88      0.83      0.85      1285\n",
            "\n",
            "    accuracy                           0.85      2500\n",
            "   macro avg       0.85      0.86      0.85      2500\n",
            "weighted avg       0.86      0.85      0.85      2500\n",
            "\n",
            "\n",
            "Best parameters:\n",
            " {'classifier__max_depth': 7, 'classifier__min_samples_leaf': 10, 'classifier__n_estimators': 100}\n"
          ]
        }
      ]
    },
    {
      "cell_type": "code",
      "source": [
        "# Get best parameters\n",
        "clf = best_parameters(param_grid_rf_gb, GradientBoostingClassifier(random_state=random_state))\n",
        "y_pred_gb = model_prediction(months, 'GRADIENT BOOSTING', clf, X_test)\n",
        "print('Best parameters:\\n', clf.best_params_)"
      ],
      "metadata": {
        "colab": {
          "base_uri": "https://localhost:8080/"
        },
        "id": "2UvdgQUBnB02",
        "outputId": "a7dbc32c-3246-4ee1-edee-0c368faa3145"
      },
      "execution_count": 20,
      "outputs": [
        {
          "output_type": "stream",
          "name": "stdout",
          "text": [
            "GRADIENT BOOSTING USING THE LAST 5 MONTHS DATA\n",
            "\n",
            "Accuracy: 0.8492\n",
            "Precision: 0.8513144771929375\n",
            "Recall: 0.8492\n",
            "F1-score: 0.8491336889704518\n",
            "More info:\n",
            "              precision    recall  f1-score   support\n",
            "\n",
            "         0.0       0.83      0.86      0.84       500\n",
            "         1.0       0.82      0.89      0.85       715\n",
            "         2.0       0.88      0.82      0.85      1285\n",
            "\n",
            "    accuracy                           0.85      2500\n",
            "   macro avg       0.84      0.86      0.85      2500\n",
            "weighted avg       0.85      0.85      0.85      2500\n",
            "\n",
            "\n",
            "Best parameters:\n",
            " {'classifier__max_depth': 7, 'classifier__min_samples_leaf': 300, 'classifier__n_estimators': 50}\n"
          ]
        }
      ]
    },
    {
      "cell_type": "code",
      "source": [
        "models.append([y_pred_knn, y_pred_rf, y_pred_gb])"
      ],
      "metadata": {
        "id": "vOi_JRxLjdv_"
      },
      "execution_count": 21,
      "outputs": []
    },
    {
      "cell_type": "markdown",
      "source": [
        "### Prueba usando los siete meses anteriores"
      ],
      "metadata": {
        "id": "hZtmLyORNpWU"
      }
    },
    {
      "cell_type": "code",
      "source": [
        "# New datasets\n",
        "months=7\n",
        "df = client_summary(data=data, target_month=target_month, num_prev_months=months)\n",
        "X_train, X_test, y_train, y_test = split_data(df=df, random_state=random_state, test_size=test_size)"
      ],
      "metadata": {
        "id": "LKUBwanTjmRG"
      },
      "execution_count": 22,
      "outputs": []
    },
    {
      "cell_type": "code",
      "source": [
        "# Get best parameters\n",
        "clf = best_parameters(param_grid_knn, KNeighborsClassifier())\n",
        "y_pred_knn = model_prediction(months, 'KNN', clf, X_test)\n",
        "print('Best parameters:\\n', clf.best_params_)"
      ],
      "metadata": {
        "colab": {
          "base_uri": "https://localhost:8080/"
        },
        "id": "ct0NzIXbnDWG",
        "outputId": "86412013-d078-44cd-e190-6980b87972fd"
      },
      "execution_count": 23,
      "outputs": [
        {
          "output_type": "stream",
          "name": "stdout",
          "text": [
            "KNN USING THE LAST 7 MONTHS DATA\n",
            "\n",
            "Accuracy: 0.794\n",
            "Precision: 0.8016328024512175\n",
            "Recall: 0.794\n",
            "F1-score: 0.7943244450711034\n",
            "More info:\n",
            "              precision    recall  f1-score   support\n",
            "\n",
            "         0.0       0.80      0.85      0.83       500\n",
            "         1.0       0.71      0.84      0.77       715\n",
            "         2.0       0.85      0.74      0.79      1285\n",
            "\n",
            "    accuracy                           0.79      2500\n",
            "   macro avg       0.79      0.81      0.80      2500\n",
            "weighted avg       0.80      0.79      0.79      2500\n",
            "\n",
            "\n",
            "Best parameters:\n",
            " {'classifier__metric': 'minkowski', 'classifier__n_neighbors': 8}\n"
          ]
        }
      ]
    },
    {
      "cell_type": "code",
      "source": [
        "# Get best parameters\n",
        "clf = best_parameters(param_grid_rf_gb, RandomForestClassifier(random_state=random_state))\n",
        "y_pred_rf = model_prediction(months, 'RANDOM FOREST', clf, X_test)\n",
        "print('Best parameters:\\n', clf.best_params_)"
      ],
      "metadata": {
        "colab": {
          "base_uri": "https://localhost:8080/"
        },
        "id": "s3HP_q_gnGHB",
        "outputId": "3cbcee79-6728-4e0e-f197-f2f1e2a72854"
      },
      "execution_count": 24,
      "outputs": [
        {
          "output_type": "stream",
          "name": "stdout",
          "text": [
            "RANDOM FOREST USING THE LAST 7 MONTHS DATA\n",
            "\n",
            "Accuracy: 0.852\n",
            "Precision: 0.8558828094332215\n",
            "Recall: 0.852\n",
            "F1-score: 0.8518427274831233\n",
            "More info:\n",
            "              precision    recall  f1-score   support\n",
            "\n",
            "         0.0       0.82      0.88      0.85       500\n",
            "         1.0       0.81      0.91      0.86       715\n",
            "         2.0       0.89      0.81      0.85      1285\n",
            "\n",
            "    accuracy                           0.85      2500\n",
            "   macro avg       0.84      0.87      0.85      2500\n",
            "weighted avg       0.86      0.85      0.85      2500\n",
            "\n",
            "\n",
            "Best parameters:\n",
            " {'classifier__max_depth': 9, 'classifier__min_samples_leaf': 10, 'classifier__n_estimators': 100}\n"
          ]
        }
      ]
    },
    {
      "cell_type": "code",
      "source": [
        "# Get best parameters\n",
        "clf = best_parameters(param_grid_rf_gb, GradientBoostingClassifier(random_state=random_state))\n",
        "y_pred_gb = model_prediction(months, 'GRADIENT BOOSTING', clf, X_test)\n",
        "print('Best parameters:\\n', clf.best_params_)"
      ],
      "metadata": {
        "colab": {
          "base_uri": "https://localhost:8080/"
        },
        "id": "RTulEishnIhB",
        "outputId": "7837f92a-20ae-4161-8001-068dc68efcd1"
      },
      "execution_count": 25,
      "outputs": [
        {
          "output_type": "stream",
          "name": "stdout",
          "text": [
            "GRADIENT BOOSTING USING THE LAST 7 MONTHS DATA\n",
            "\n",
            "Accuracy: 0.8532\n",
            "Precision: 0.8554864378958918\n",
            "Recall: 0.8532\n",
            "F1-score: 0.8531165620448498\n",
            "More info:\n",
            "              precision    recall  f1-score   support\n",
            "\n",
            "         0.0       0.83      0.87      0.85       500\n",
            "         1.0       0.82      0.90      0.86       715\n",
            "         2.0       0.89      0.82      0.85      1285\n",
            "\n",
            "    accuracy                           0.85      2500\n",
            "   macro avg       0.84      0.86      0.85      2500\n",
            "weighted avg       0.86      0.85      0.85      2500\n",
            "\n",
            "\n",
            "Best parameters:\n",
            " {'classifier__max_depth': 9, 'classifier__min_samples_leaf': 300, 'classifier__n_estimators': 50}\n"
          ]
        }
      ]
    },
    {
      "cell_type": "code",
      "source": [
        "models.append([y_pred_knn, y_pred_rf, y_pred_gb])"
      ],
      "metadata": {
        "id": "Jj43BNyejeqF"
      },
      "execution_count": 26,
      "outputs": []
    },
    {
      "cell_type": "markdown",
      "source": [
        "# Matrices de confusión"
      ],
      "metadata": {
        "id": "GvDZwJz_N9wg"
      }
    },
    {
      "cell_type": "code",
      "execution_count": 30,
      "metadata": {
        "colab": {
          "base_uri": "https://localhost:8080/",
          "height": 1000
        },
        "id": "Bq9UatxY1B-s",
        "outputId": "4a13d795-7698-4084-aabf-18c079dc3065"
      },
      "outputs": [
        {
          "output_type": "display_data",
          "data": {
            "text/plain": [
              "<Figure size 1600x1600 with 9 Axes>"
            ],
            "image/png": "[encoded data removed]"
          },
          "metadata": {}
        }
      ],
      "source": [
        "from sklearn import metrics\n",
        "# Código extraido de https://medium.com/@eceisikpolat/plot-and-customize-multiple-confusion-matrices-with-matplotlib-a19ed00ca16c\n",
        "plt.rcParams.update({'font.size':12}); display_labels = [\"G\", \"P\", \"S\"]; colorbar = False; cmap = \"Blues\"; x_labels = [3, 5, 7]; y_labels = ['KNN', 'RF', 'GB']\n",
        "\n",
        "# Plot confusion matrix\n",
        "f, axes = plt.subplots(3, 3, figsize=(16, 16))\n",
        "for i in range(3):\n",
        "    for j in range(3):\n",
        "        y_pred = models[j][i]\n",
        "        #axes[i, j].set_title(f'Accuracy={accuracy_score(y_test, y_pred)}')\n",
        "        confusion_matrix = metrics.confusion_matrix(y_test, y_pred)\n",
        "        metrics.ConfusionMatrixDisplay(confusion_matrix=confusion_matrix, display_labels=display_labels).plot(include_values=True, cmap=cmap, ax=axes[i, j], colorbar=colorbar)\n",
        "        axes[i, j].set_xlabel(''); axes[i, j].set_ylabel('')\n",
        "\n",
        "# Set labels\n",
        "for i in range(len(x_labels)):\n",
        "    plt.setp(axes[-1, i], xlabel=f'months={x_labels[i]}')\n",
        "for i in range(len(y_labels)):\n",
        "    plt.setp(axes[i, 0], ylabel=f'model={y_labels[i]}')\n",
        "\n",
        "plt.show()\n",
        "f.savefig(\"Models_CM.pdf\", bbox_inches='tight')"
      ]
    }
  ],
  "metadata": {
    "kernelspec": {
      "display_name": "Python 3",
      "language": "python",
      "name": "python3"
    },
    "language_info": {
      "codemirror_mode": {
        "name": "ipython",
        "version": 3
      },
      "file_extension": ".py",
      "mimetype": "text/x-python",
      "name": "python",
      "nbconvert_exporter": "python",
      "pygments_lexer": "ipython3",
      "version": "3.10.2"
    },
    "colab": {
      "provenance": [],
      "collapsed_sections": [
        "EZ80HfTJcy2A",
        "kf59zYOrc4Ws",
        "tbrhKw6XM6H9",
        "wXHe-8wJJQKB",
        "lbWBkKQyNa_w",
        "hZtmLyORNpWU"
      ]
    }
  },
  "nbformat": 4,
  "nbformat_minor": 0
}